{
  "nbformat": 4,
  "nbformat_minor": 0,
  "metadata": {
    "colab": {
      "provenance": [],
      "include_colab_link": true
    },
    "kernelspec": {
      "name": "python3",
      "display_name": "Python 3"
    },
    "language_info": {
      "name": "python"
    }
  },
  "cells": [
    {
      "cell_type": "markdown",
      "metadata": {
        "id": "view-in-github",
        "colab_type": "text"
      },
      "source": [
        "<a href=\"https://colab.research.google.com/github/emily-park-0902/first-repository/blob/master/Untitled0.ipynb\" target=\"_parent\"><img src=\"https://colab.research.google.com/assets/colab-badge.svg\" alt=\"Open In Colab\"/></a>"
      ]
    },
    {
      "cell_type": "code",
      "execution_count": null,
      "metadata": {
        "id": "feJQ6SNJIH2S",
        "colab": {
          "base_uri": "https://localhost:8080/"
        },
        "outputId": "843d5fe6-75ed-4a08-b6ca-adb3cfa21aee"
      },
      "outputs": [
        {
          "output_type": "stream",
          "name": "stdout",
          "text": [
            "망아지\n",
            "-------------------------\n",
            "입력된 문자열:  망아지\n",
            "뒤집힌 문자열:  지아망 \n",
            " -------------------------\n",
            "회문아님\n"
          ]
        }
      ],
      "source": [
        "def isPalindrome(string):\n",
        "    print(\"-\"*25)\n",
        "    print(\"입력된 문자열: \", string)\n",
        "\n",
        "    test = string[::-1]\n",
        "    print(\"뒤집힌 문자열: \", test, \"\\n\", \"-\"*25)\n",
        "    if string == test:\n",
        "        print(\"회문임\")\n",
        "    else:\n",
        "        print(\"회문아님\")\n",
        "\n",
        "string = input()\n",
        "isPalindrome(string)"
      ]
    },
    {
      "cell_type": "markdown",
      "source": [
        "> 10:50분 시작 (드라이버: 박정현 / 내비게이터: 윤형석)"
      ],
      "metadata": {
        "id": "uoo4QAitP03T"
      }
    }
  ]
}